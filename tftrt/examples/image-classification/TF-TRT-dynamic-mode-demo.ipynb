{
 "cells": [
  {
   "cell_type": "markdown",
   "metadata": {},
   "source": [
    "# TF-TRT Dynamic Mode Demo with TF 1.14, 1.15\n",
    "\n",
    "In this notebook, we demonstrate the process to create a TF-TRT optimized model from a Tensorflow *saved model*.\n",
    "\n",
    "This notebook was designed to run with TensorFlow versions 1.14, 1.15 which is included as part of NVIDIA NGC Tensorflow containers from `nvcr.io/nvidia/tensorflow:19.07-py3` to `nvcr.io/nvidia/tensorflow:19.12-tf1-py3` that can be downloaded from the [NGC website](https://ngc.nvidia.com/catalog/containers/nvidia:tensorflow).\n",
    " \n",
    "\n",
    "## Notebook  Content\n",
    "1. [Pre-requisite: data and model](#1)\n",
    "1. [Verifying the orignal model](#2)\n",
    "1. [Creating TF-TRT FP16 model - Dynamic mode](#3)\n",
    "1. [Creating TF-TRT FP16 model - Static mode](#4)\n",
    " \n",
    "## Quick start\n",
    "We will run this demonstration with a saved Resnet-v1-50 model to be downloaded and stored at `/path/to/saved_model`.\n",
    "\n",
    "The INT8 calibration process requires access to a small but representative sample of real training or valiation data.\n",
    "\n",
    "We will use the ImageNet dataset that is stored in TFrecords format. Google provide an excellent all-in-one script for downloading and preparing the ImageNet dataset at \n",
    "\n",
    "https://github.com/tensorflow/models/blob/master/research/inception/inception/data/download_and_preprocess_imagenet.sh.\n",
    "\n",
    "\n",
    "To run this notebook, start the NGC TF container, providing correct path to the ImageNet validation data `/path/to/image_net` and the folder `/path/to/saved_model` containing the TF saved model:\n",
    "\n",
    "```bash\n",
    "nvidia-docker run --rm -it -p 8888:8888 -v /path/to/image_net:/data  -v /path/to/saved_model:/saved_model --name TFTRT nvcr.io/nvidia/tensorflow:19.12-tf1-py3\n",
    "```\n",
    "\n",
    "Within the container, we then start Jupyter notebook with:\n",
    "\n",
    "```bash\n",
    "jupyter notebook --ip 0.0.0.0 --port 8888  --allow-root\n",
    "```\n",
    "\n",
    "Connect to Jupyter notebook web interface on your host http://localhost:8888.\n",
    "\n",
    "\n",
    "<a id=\"1\"></a>\n",
    "## 1. Pre-requisite: data and model\n",
    "\n",
    "We first install some extra packages and external dependencies needed for, e.g. preprocessing ImageNet data. "
   ]
  },
  {
   "cell_type": "code",
   "execution_count": null,
   "metadata": {
    "scrolled": false
   },
   "outputs": [],
   "source": [
    "%%bash \n",
    "bash ../object_detection/install_dependencies.sh;"
   ]
  },
  {
   "cell_type": "code",
   "execution_count": 2,
   "metadata": {},
   "outputs": [
    {
     "name": "stdout",
     "output_type": "stream",
     "text": [
      "TensorFlow version:  1.15.0\n",
      "TensorRT version\n",
      "ii  libnvinfer-bin                         6.0.1-1+cuda10.2                  amd64        TensorRT binaries\n",
      "ii  libnvinfer-dev                         6.0.1-1+cuda10.2                  amd64        TensorRT development libraries and headers\n",
      "ii  libnvinfer-plugin-dev                  6.0.1-1+cuda10.2                  amd64        TensorRT plugin libraries\n",
      "ii  libnvinfer-plugin6                     6.0.1-1+cuda10.2                  amd64        TensorRT plugin libraries\n",
      "ii  libnvinfer6                            6.0.1-1+cuda10.2                  amd64        TensorRT runtime libraries\n",
      "ii  python3-libnvinfer                     6.0.1-1+cuda10.2                  amd64        Python 3 bindings for TensorRT\n",
      "ii  python3-libnvinfer-dev                 6.0.1-1+cuda10.2                  amd64        Python 3 development package for TensorRT\n"
     ]
    }
   ],
   "source": [
    "import os\n",
    "import time\n",
    "import numpy as np\n",
    "import matplotlib.pyplot as plt\n",
    "\n",
    "import tensorflow as tf\n",
    "print(\"TensorFlow version: \", tf.__version__)\n",
    "\n",
    "from tensorflow.python.compiler.tensorrt import trt_convert as trt\n",
    "\n",
    "\n",
    "import logging\n",
    "logging.getLogger(\"tensorflow\").setLevel(logging.ERROR)\n",
    "\n",
    "os.environ[\"CUDA_DEVICE_ORDER\"]=\"PCI_BUS_ID\"\n",
    "os.environ[\"CUDA_VISIBLE_DEVICES\"]=\"0\"\n",
    "\n",
    "config = tf.ConfigProto()\n",
    "config.gpu_options.allow_growth=True\n",
    "\n",
    "# check TensorRT version\n",
    "print(\"TensorRT version\")\n",
    "!dpkg -l | grep nvinfer"
   ]
  },
  {
   "cell_type": "markdown",
   "metadata": {},
   "source": [
    "### Data\n",
    "We verify that the correct ImageNet data folder has been mounted and validation data files of the form `validation-00xxx-of-00128` are available."
   ]
  },
  {
   "cell_type": "code",
   "execution_count": 3,
   "metadata": {},
   "outputs": [],
   "source": [
    "def get_files(data_dir, filename_pattern):\n",
    "    if data_dir == None:\n",
    "        return []\n",
    "    files = tf.gfile.Glob(os.path.join(data_dir, filename_pattern))\n",
    "    if files == []:\n",
    "        raise ValueError('Can not find any files in {} with '\n",
    "                         'pattern \"{}\"'.format(data_dir, filename_pattern))\n",
    "    return files"
   ]
  },
  {
   "cell_type": "code",
   "execution_count": 4,
   "metadata": {},
   "outputs": [
    {
     "name": "stdout",
     "output_type": "stream",
     "text": [
      "There are 128 validation files. \n",
      "/CDR/ImageNet/train-val-tfrecord/validation-00041-of-00128\n",
      "/CDR/ImageNet/train-val-tfrecord/validation-00052-of-00128\n",
      "...\n"
     ]
    }
   ],
   "source": [
    "VALIDATION_DATA_DIR = \"/CDR/ImageNet/train-val-tfrecord\"\n",
    "validation_files = get_files(VALIDATION_DATA_DIR, 'validation*')\n",
    "print('There are %d validation files. \\n%s\\n%s\\n...'%(len(validation_files), validation_files[0], validation_files[-1]))\n"
   ]
  },
  {
   "cell_type": "markdown",
   "metadata": {},
   "source": [
    "### TF saved model\n",
    "If not already downloaded, we will be downloading and working with a ResNet-50 v1.5 saved model from https://ngc.nvidia.com/catalog/models/nvidia:rntf_fp16/files"
   ]
  },
  {
   "cell_type": "code",
   "execution_count": null,
   "metadata": {
    "scrolled": false
   },
   "outputs": [],
   "source": [
    "%%bash\n",
    "rm resnet_model.zip\n",
    "wget -nc -q --show-progress -O resnet_model.zip \\\n",
    "\"https://api.ngc.nvidia.com/v2/models/nvidia/rntf_fp16/versions/1/zip\"\n",
    "unzip -o ./resnet_model.zip -d resnet_model"
   ]
  },
  {
   "cell_type": "markdown",
   "metadata": {},
   "source": [
    "### Helper functions\n",
    "We define a few helper functions to read and preprocess Imagenet data from TFRecord files. "
   ]
  },
  {
   "cell_type": "code",
   "execution_count": 6,
   "metadata": {},
   "outputs": [],
   "source": [
    "def deserialize_image_record(record):\n",
    "    feature_map = {\n",
    "        'image/encoded':          tf.FixedLenFeature([ ], tf.string, ''),\n",
    "        'image/class/label':      tf.FixedLenFeature([1], tf.int64,  -1),\n",
    "        'image/class/text':       tf.FixedLenFeature([ ], tf.string, ''),\n",
    "        'image/object/bbox/xmin': tf.VarLenFeature(dtype=tf.float32),\n",
    "        'image/object/bbox/ymin': tf.VarLenFeature(dtype=tf.float32),\n",
    "        'image/object/bbox/xmax': tf.VarLenFeature(dtype=tf.float32),\n",
    "        'image/object/bbox/ymax': tf.VarLenFeature(dtype=tf.float32)\n",
    "    }\n",
    "    with tf.name_scope('deserialize_image_record'):\n",
    "        obj = tf.parse_single_example(record, feature_map)\n",
    "        imgdata = obj['image/encoded']\n",
    "        label   = tf.cast(obj['image/class/label'], tf.int32)\n",
    "        bbox    = tf.stack([obj['image/object/bbox/%s'%x].values\n",
    "                            for x in ['ymin', 'xmin', 'ymax', 'xmax']])\n",
    "        bbox = tf.transpose(tf.expand_dims(bbox, 0), [0,2,1])\n",
    "        text    = obj['image/class/text']\n",
    "        return imgdata, label, bbox, text"
   ]
  },
  {
   "cell_type": "code",
   "execution_count": 7,
   "metadata": {},
   "outputs": [
    {
     "name": "stdout",
     "output_type": "stream",
     "text": [
      "fatal: destination path 'DeepLearningExamples' already exists and is not an empty directory.\r\n"
     ]
    }
   ],
   "source": [
    "import sys\n",
    "\n",
    "!git clone https://github.com/NVIDIA/DeepLearningExamples\n",
    "sys.path.insert(0,'./DeepLearningExamples/TensorFlow/Classification/RN50v1.5/utils')\n",
    "\n",
    "from image_processing import preprocess_image_record\n",
    "def preprocess(record):\n",
    "    # Parse TFRecord\n",
    "    image, label = preprocess_image_record(record, 224, 224, 3, is_training=False)\n",
    "    return image, label"
   ]
  },
  {
   "cell_type": "markdown",
   "metadata": {},
   "source": [
    "<a id=\"2\"></a>\n",
    "## 2. Verifying the original model\n",
    "We demonstrate the conversion process with a Resnet-50 v1 model. First, we inspect the original Tensorflow model."
   ]
  },
  {
   "cell_type": "code",
   "execution_count": 8,
   "metadata": {},
   "outputs": [],
   "source": [
    "SAVED_MODEL_DIR =  \"./resnet_model/SavedModel\""
   ]
  },
  {
   "cell_type": "markdown",
   "metadata": {},
   "source": [
    "We employ `saved_model_cli` to inspect the inputs and outputs of the model."
   ]
  },
  {
   "cell_type": "code",
   "execution_count": 9,
   "metadata": {},
   "outputs": [
    {
     "name": "stdout",
     "output_type": "stream",
     "text": [
      "2020-01-14 04:42:40.895629: I tensorflow/stream_executor/platform/default/dso_loader.cc:44] Successfully opened dynamic library libcudart.so.10.2\n",
      "\n",
      "MetaGraphDef with tag-set: 'serve' contains the following SignatureDefs:\n",
      "\n",
      "signature_def['predict']:\n",
      "  The given SavedModel SignatureDef contains the following input(s):\n",
      "    inputs['input'] tensor_info:\n",
      "        dtype: DT_FLOAT\n",
      "        shape: (-1, 224, 224, 3)\n",
      "        name: input_tensor:0\n",
      "  The given SavedModel SignatureDef contains the following output(s):\n",
      "    outputs['classes'] tensor_info:\n",
      "        dtype: DT_INT32\n",
      "        shape: (-1)\n",
      "        name: ArgMax:0\n",
      "    outputs['probabilities'] tensor_info:\n",
      "        dtype: DT_FLOAT\n",
      "        shape: (-1, 1001)\n",
      "        name: resnet50_v1.5/output/softmax:0\n",
      "  Method name is: tensorflow/serving/predict\n",
      "\n",
      "signature_def['serving_default']:\n",
      "  The given SavedModel SignatureDef contains the following input(s):\n",
      "    inputs['input'] tensor_info:\n",
      "        dtype: DT_FLOAT\n",
      "        shape: (-1, 224, 224, 3)\n",
      "        name: input_tensor:0\n",
      "  The given SavedModel SignatureDef contains the following output(s):\n",
      "    outputs['classes'] tensor_info:\n",
      "        dtype: DT_INT32\n",
      "        shape: (-1)\n",
      "        name: ArgMax:0\n",
      "    outputs['probabilities'] tensor_info:\n",
      "        dtype: DT_FLOAT\n",
      "        shape: (-1, 1001)\n",
      "        name: resnet50_v1.5/output/softmax:0\n",
      "  Method name is: tensorflow/serving/predict\n"
     ]
    }
   ],
   "source": [
    "!saved_model_cli show --all --dir $SAVED_MODEL_DIR"
   ]
  },
  {
   "cell_type": "markdown",
   "metadata": {},
   "source": [
    "This give us information on the input and output tensors as `input_tensor:0` and `softmax_tensor:0` respectively. Also note that the number of output classes here is 1001 instead of 1000 Imagenet classes. This is because the network was trained with an extra background class. "
   ]
  },
  {
   "cell_type": "code",
   "execution_count": 10,
   "metadata": {},
   "outputs": [],
   "source": [
    "INPUT_TENSOR = 'input_tensor:0'\n",
    "OUTPUT_TENSOR = 'resnet50_v1.5/output/softmax:0'"
   ]
  },
  {
   "cell_type": "markdown",
   "metadata": {},
   "source": [
    "Next, we define a function to read in a saved mode, measuring its speed and accuracy on the validation data."
   ]
  },
  {
   "cell_type": "code",
   "execution_count": 11,
   "metadata": {},
   "outputs": [],
   "source": [
    "def benchmark_saved_model(SAVED_MODEL_DIR, BATCH_SIZE=64):\n",
    "    with tf.Session(graph=tf.Graph(), config=config) as sess:\n",
    "        # prepare dataset iterator\n",
    "        dataset = tf.data.TFRecordDataset(validation_files)    \n",
    "        dataset = dataset.apply(tf.contrib.data.map_and_batch(map_func=preprocess, batch_size=BATCH_SIZE, num_parallel_calls=20))\n",
    "\n",
    "        iterator = dataset.make_one_shot_iterator()\n",
    "        next_element = iterator.get_next()\n",
    "\n",
    "        tf.saved_model.loader.load(\n",
    "            sess, [tf.saved_model.tag_constants.SERVING], SAVED_MODEL_DIR)\n",
    "\n",
    "        print('Warming up for 50 batches...')\n",
    "        for _ in range (50):\n",
    "            sess.run(OUTPUT_TENSOR, feed_dict={INPUT_TENSOR: sess.run(next_element)[0]})\n",
    "\n",
    "        print('Benchmarking inference engine at batch size %d...'%BATCH_SIZE)\n",
    "        num_hits = 0\n",
    "        num_predict = 0\n",
    "        start_time = time.time()\n",
    "        try:\n",
    "            while True:        \n",
    "                image_data = sess.run(next_element)    \n",
    "                img = image_data[0]\n",
    "                label = image_data[1].squeeze()\n",
    "                output = sess.run([OUTPUT_TENSOR], feed_dict={INPUT_TENSOR: img})            \n",
    "                prediction = np.argmax(output[0], axis=1)\n",
    "                num_hits += np.sum(prediction == label)\n",
    "                num_predict += len(prediction)\n",
    "        except tf.errors.OutOfRangeError as e:\n",
    "            pass\n",
    "\n",
    "        print('Accuracy: %.2f%%'%(100*num_hits/num_predict))\n",
    "        print('Inference speed: %.2f samples/s'%(num_predict/(time.time()-start_time)))"
   ]
  },
  {
   "cell_type": "code",
   "execution_count": 12,
   "metadata": {},
   "outputs": [
    {
     "name": "stdout",
     "output_type": "stream",
     "text": [
      "Warming up for 50 batches...\n",
      "Benchmarking inference engine at batch size 64...\n",
      "Accuracy: 76.17%\n",
      "Inference speed: 1202.08 samples/s\n"
     ]
    }
   ],
   "source": [
    "BATCH_SIZE = 64\n",
    "\n",
    "benchmark_saved_model(SAVED_MODEL_DIR, BATCH_SIZE=BATCH_SIZE)"
   ]
  },
  {
   "cell_type": "markdown",
   "metadata": {},
   "source": [
    "<a id=\"4\"></a>\n",
    "## 4. Creating TF-TRT FP16 model - Dynamic mode\n",
    "\n",
    "Next, we convert the native TF FP16 model to TF-TRT FP16, then verify model accuracy and inference speed."
   ]
  },
  {
   "cell_type": "code",
   "execution_count": 13,
   "metadata": {},
   "outputs": [
    {
     "name": "stdout",
     "output_type": "stream",
     "text": [
      "Warming up for 50 batches...\n",
      "Benchmarking inference engine at batch size 64...\n",
      "Accuracy: 76.17%\n",
      "Inference speed: 1164.21 samples/s\n"
     ]
    }
   ],
   "source": [
    "BATCH_SIZE = 64\n",
    "\n",
    "FP16_SAVED_MODEL_DIR = SAVED_MODEL_DIR+\"_TFTRT_FP16/1\"\n",
    "!rm -rf $FP16_SAVED_MODEL_DIR\n",
    "\n",
    "# Now we create the TFTRT FP16 engine\n",
    "converter = trt.TrtGraphConverter(input_saved_model_dir=SAVED_MODEL_DIR,\n",
    "                                  max_batch_size=BATCH_SIZE,\n",
    "                                  precision_mode=trt.TrtPrecisionMode.FP16,\n",
    "                                  is_dynamic_op=True)\n",
    "converter.convert()\n",
    "converter.save(FP16_SAVED_MODEL_DIR)\n",
    "\n",
    "benchmark_saved_model(FP16_SAVED_MODEL_DIR, BATCH_SIZE=BATCH_SIZE)"
   ]
  },
  {
   "cell_type": "code",
   "execution_count": 14,
   "metadata": {},
   "outputs": [
    {
     "name": "stdout",
     "output_type": "stream",
     "text": [
      "Warming up for 50 batches...\n",
      "Benchmarking inference engine at batch size 128...\n",
      "Accuracy: 76.26%\n",
      "Inference speed: 1210.12 samples/s\n"
     ]
    }
   ],
   "source": [
    "\n",
    "benchmark_saved_model(FP16_SAVED_MODEL_DIR, BATCH_SIZE=128)"
   ]
  },
  {
   "cell_type": "code",
   "execution_count": 15,
   "metadata": {},
   "outputs": [
    {
     "name": "stdout",
     "output_type": "stream",
     "text": [
      "Warming up for 50 batches...\n",
      "Benchmarking inference engine at batch size 32...\n",
      "Accuracy: 76.19%\n",
      "Inference speed: 1057.01 samples/s\n"
     ]
    }
   ],
   "source": [
    "\n",
    "benchmark_saved_model(FP16_SAVED_MODEL_DIR, BATCH_SIZE=32)"
   ]
  },
  {
   "cell_type": "markdown",
   "metadata": {},
   "source": [
    "<a id=\"4\"></a>\n",
    "## 4. Creating TF-TRT FP16 model - Static mode\n",
    "\n",
    "Next, we convert the native TF FP16 model to TF-TRT FP16, then verify model accuracy and inference speed."
   ]
  },
  {
   "cell_type": "code",
   "execution_count": 16,
   "metadata": {},
   "outputs": [
    {
     "name": "stdout",
     "output_type": "stream",
     "text": [
      "Warming up for 50 batches...\n",
      "Benchmarking inference engine at batch size 64...\n",
      "Accuracy: 76.18%\n",
      "Inference speed: 3971.00 samples/s\n"
     ]
    }
   ],
   "source": [
    "BATCH_SIZE = 64\n",
    "\n",
    "FP16_SAVED_MODEL_DIR = SAVED_MODEL_DIR+\"_TFTRT_FP16/2\"\n",
    "!rm -rf $FP16_SAVED_MODEL_DIR\n",
    "\n",
    "# Now we create the TFTRT FP16 engine\n",
    "converter = trt.TrtGraphConverter(input_saved_model_dir=SAVED_MODEL_DIR,\n",
    "                                  max_batch_size=BATCH_SIZE,\n",
    "                                  precision_mode=trt.TrtPrecisionMode.FP16,\n",
    "                                  is_dynamic_op=False)\n",
    "converter.convert()\n",
    "converter.save(FP16_SAVED_MODEL_DIR)\n",
    "\n",
    "benchmark_saved_model(FP16_SAVED_MODEL_DIR, BATCH_SIZE=BATCH_SIZE)"
   ]
  },
  {
   "cell_type": "code",
   "execution_count": 17,
   "metadata": {},
   "outputs": [
    {
     "name": "stdout",
     "output_type": "stream",
     "text": [
      "Warming up for 50 batches...\n",
      "Benchmarking inference engine at batch size 128...\n",
      "Accuracy: 76.26%\n",
      "Inference speed: 1233.73 samples/s\n"
     ]
    }
   ],
   "source": [
    "\n",
    "benchmark_saved_model(FP16_SAVED_MODEL_DIR, BATCH_SIZE=128)"
   ]
  },
  {
   "cell_type": "code",
   "execution_count": 18,
   "metadata": {},
   "outputs": [
    {
     "name": "stdout",
     "output_type": "stream",
     "text": [
      "Warming up for 50 batches...\n",
      "Benchmarking inference engine at batch size 64...\n",
      "Accuracy: 76.18%\n",
      "Inference speed: 3929.13 samples/s\n"
     ]
    }
   ],
   "source": [
    "\n",
    "benchmark_saved_model(FP16_SAVED_MODEL_DIR, BATCH_SIZE=64)"
   ]
  },
  {
   "cell_type": "code",
   "execution_count": 19,
   "metadata": {},
   "outputs": [
    {
     "name": "stdout",
     "output_type": "stream",
     "text": [
      "Warming up for 50 batches...\n",
      "Benchmarking inference engine at batch size 8...\n",
      "Accuracy: 76.27%\n",
      "Inference speed: 1577.06 samples/s\n"
     ]
    }
   ],
   "source": [
    "benchmark_saved_model(FP16_SAVED_MODEL_DIR, BATCH_SIZE=8)"
   ]
  },
  {
   "cell_type": "code",
   "execution_count": 20,
   "metadata": {},
   "outputs": [
    {
     "name": "stdout",
     "output_type": "stream",
     "text": [
      "Warming up for 50 batches...\n",
      "Benchmarking inference engine at batch size 32...\n",
      "Accuracy: 76.20%\n",
      "Inference speed: 3060.27 samples/s\n"
     ]
    }
   ],
   "source": [
    "benchmark_saved_model(FP16_SAVED_MODEL_DIR, BATCH_SIZE=32)"
   ]
  },
  {
   "cell_type": "code",
   "execution_count": 21,
   "metadata": {},
   "outputs": [
    {
     "name": "stdout",
     "output_type": "stream",
     "text": [
      "Warming up for 50 batches...\n",
      "Benchmarking inference engine at batch size 96...\n",
      "Accuracy: 76.24%\n",
      "Inference speed: 1222.90 samples/s\n"
     ]
    }
   ],
   "source": [
    "benchmark_saved_model(FP16_SAVED_MODEL_DIR, BATCH_SIZE=96)"
   ]
  },
  {
   "cell_type": "markdown",
   "metadata": {},
   "source": [
    "## Conclusion\n",
    "In this notebook, we have demonstrated the process of creating TF-TRT inference model from an original TF FP32 *saved model*. In every case, we have also verified the accuracy and speed to the resulting model. \n"
   ]
  }
 ],
 "metadata": {
  "kernelspec": {
   "display_name": "Python 3",
   "language": "python",
   "name": "python3"
  },
  "language_info": {
   "codemirror_mode": {
    "name": "ipython",
    "version": 3
   },
   "file_extension": ".py",
   "mimetype": "text/x-python",
   "name": "python",
   "nbconvert_exporter": "python",
   "pygments_lexer": "ipython3",
   "version": "3.6.9"
  }
 },
 "nbformat": 4,
 "nbformat_minor": 2
}
